{
 "cells": [
  {
   "cell_type": "markdown",
   "metadata": {},
   "source": [
    "## Final Project Research\n",
    "###### Name: Haizhou Li (Undergraduate)\n",
    "###### Version: 2020-11-17"
   ]
  },
  {
   "cell_type": "code",
   "execution_count": 2,
   "metadata": {},
   "outputs": [],
   "source": [
    "import numpy as np\n",
    "import pandas as pd\n",
    "import matplotlib.pyplot as plt\n",
    "import seaborn as sns\n",
    "import statsmodels.formula.api as smf\n",
    "import statsmodels.api as sm\n",
    "from string import ascii_letters\n",
    "from sklearn.decomposition import PCA\n",
    "from sklearn.preprocessing import StandardScaler\n",
    "from sklearn.preprocessing import MinMaxScaler"
   ]
  },
  {
   "cell_type": "code",
   "execution_count": 3,
   "metadata": {},
   "outputs": [
    {
     "data": {
      "text/html": [
       "<div>\n",
       "<style scoped>\n",
       "    .dataframe tbody tr th:only-of-type {\n",
       "        vertical-align: middle;\n",
       "    }\n",
       "\n",
       "    .dataframe tbody tr th {\n",
       "        vertical-align: top;\n",
       "    }\n",
       "\n",
       "    .dataframe thead th {\n",
       "        text-align: right;\n",
       "    }\n",
       "</style>\n",
       "<table border=\"1\" class=\"dataframe\">\n",
       "  <thead>\n",
       "    <tr style=\"text-align: right;\">\n",
       "      <th></th>\n",
       "      <th>ID</th>\n",
       "      <th>Name</th>\n",
       "      <th>Age</th>\n",
       "      <th>Nationality</th>\n",
       "      <th>Overall</th>\n",
       "      <th>Potential</th>\n",
       "      <th>Club</th>\n",
       "      <th>Value</th>\n",
       "      <th>Wage</th>\n",
       "      <th>Special</th>\n",
       "      <th>...</th>\n",
       "      <th>Composure</th>\n",
       "      <th>Marking</th>\n",
       "      <th>StandingTackle</th>\n",
       "      <th>SlidingTackle</th>\n",
       "      <th>GKDiving</th>\n",
       "      <th>GKHandling</th>\n",
       "      <th>GKKicking</th>\n",
       "      <th>GKPositioning</th>\n",
       "      <th>GKReflexes</th>\n",
       "      <th>Release Clause</th>\n",
       "    </tr>\n",
       "  </thead>\n",
       "  <tbody>\n",
       "    <tr>\n",
       "      <th>0</th>\n",
       "      <td>158023</td>\n",
       "      <td>L. Messi</td>\n",
       "      <td>31</td>\n",
       "      <td>Argentina</td>\n",
       "      <td>94</td>\n",
       "      <td>94</td>\n",
       "      <td>FC Barcelona</td>\n",
       "      <td>€110.5M</td>\n",
       "      <td>€565K</td>\n",
       "      <td>2202</td>\n",
       "      <td>...</td>\n",
       "      <td>96</td>\n",
       "      <td>33</td>\n",
       "      <td>28</td>\n",
       "      <td>26</td>\n",
       "      <td>6</td>\n",
       "      <td>11</td>\n",
       "      <td>15</td>\n",
       "      <td>14</td>\n",
       "      <td>8</td>\n",
       "      <td>€226.5M</td>\n",
       "    </tr>\n",
       "    <tr>\n",
       "      <th>1</th>\n",
       "      <td>20801</td>\n",
       "      <td>Cristiano Ronaldo</td>\n",
       "      <td>33</td>\n",
       "      <td>Portugal</td>\n",
       "      <td>94</td>\n",
       "      <td>94</td>\n",
       "      <td>Juventus</td>\n",
       "      <td>€77M</td>\n",
       "      <td>€405K</td>\n",
       "      <td>2228</td>\n",
       "      <td>...</td>\n",
       "      <td>95</td>\n",
       "      <td>28</td>\n",
       "      <td>31</td>\n",
       "      <td>23</td>\n",
       "      <td>7</td>\n",
       "      <td>11</td>\n",
       "      <td>15</td>\n",
       "      <td>14</td>\n",
       "      <td>11</td>\n",
       "      <td>€127.1M</td>\n",
       "    </tr>\n",
       "    <tr>\n",
       "      <th>2</th>\n",
       "      <td>190871</td>\n",
       "      <td>Neymar Jr</td>\n",
       "      <td>26</td>\n",
       "      <td>Brazil</td>\n",
       "      <td>92</td>\n",
       "      <td>93</td>\n",
       "      <td>Paris Saint-Germain</td>\n",
       "      <td>€118.5M</td>\n",
       "      <td>€290K</td>\n",
       "      <td>2143</td>\n",
       "      <td>...</td>\n",
       "      <td>94</td>\n",
       "      <td>27</td>\n",
       "      <td>24</td>\n",
       "      <td>33</td>\n",
       "      <td>9</td>\n",
       "      <td>9</td>\n",
       "      <td>15</td>\n",
       "      <td>15</td>\n",
       "      <td>11</td>\n",
       "      <td>€228.1M</td>\n",
       "    </tr>\n",
       "    <tr>\n",
       "      <th>3</th>\n",
       "      <td>193080</td>\n",
       "      <td>De Gea</td>\n",
       "      <td>27</td>\n",
       "      <td>Spain</td>\n",
       "      <td>91</td>\n",
       "      <td>93</td>\n",
       "      <td>Manchester United</td>\n",
       "      <td>€72M</td>\n",
       "      <td>€260K</td>\n",
       "      <td>1471</td>\n",
       "      <td>...</td>\n",
       "      <td>68</td>\n",
       "      <td>15</td>\n",
       "      <td>21</td>\n",
       "      <td>13</td>\n",
       "      <td>90</td>\n",
       "      <td>85</td>\n",
       "      <td>87</td>\n",
       "      <td>88</td>\n",
       "      <td>94</td>\n",
       "      <td>€138.6M</td>\n",
       "    </tr>\n",
       "    <tr>\n",
       "      <th>4</th>\n",
       "      <td>192985</td>\n",
       "      <td>K. De Bruyne</td>\n",
       "      <td>27</td>\n",
       "      <td>Belgium</td>\n",
       "      <td>91</td>\n",
       "      <td>92</td>\n",
       "      <td>Manchester City</td>\n",
       "      <td>€102M</td>\n",
       "      <td>€355K</td>\n",
       "      <td>2281</td>\n",
       "      <td>...</td>\n",
       "      <td>88</td>\n",
       "      <td>68</td>\n",
       "      <td>58</td>\n",
       "      <td>51</td>\n",
       "      <td>15</td>\n",
       "      <td>13</td>\n",
       "      <td>5</td>\n",
       "      <td>10</td>\n",
       "      <td>13</td>\n",
       "      <td>€196.4M</td>\n",
       "    </tr>\n",
       "  </tbody>\n",
       "</table>\n",
       "<p>5 rows × 84 columns</p>\n",
       "</div>"
      ],
      "text/plain": [
       "       ID               Name  Age Nationality  Overall  Potential  \\\n",
       "0  158023           L. Messi   31   Argentina       94         94   \n",
       "1   20801  Cristiano Ronaldo   33    Portugal       94         94   \n",
       "2  190871          Neymar Jr   26      Brazil       92         93   \n",
       "3  193080             De Gea   27       Spain       91         93   \n",
       "4  192985       K. De Bruyne   27     Belgium       91         92   \n",
       "\n",
       "                  Club    Value   Wage  Special  ... Composure  Marking  \\\n",
       "0         FC Barcelona  €110.5M  €565K     2202  ...        96       33   \n",
       "1             Juventus     €77M  €405K     2228  ...        95       28   \n",
       "2  Paris Saint-Germain  €118.5M  €290K     2143  ...        94       27   \n",
       "3    Manchester United     €72M  €260K     1471  ...        68       15   \n",
       "4      Manchester City    €102M  €355K     2281  ...        88       68   \n",
       "\n",
       "   StandingTackle  SlidingTackle GKDiving GKHandling GKKicking  GKPositioning  \\\n",
       "0              28             26        6         11        15             14   \n",
       "1              31             23        7         11        15             14   \n",
       "2              24             33        9          9        15             15   \n",
       "3              21             13       90         85        87             88   \n",
       "4              58             51       15         13         5             10   \n",
       "\n",
       "  GKReflexes Release Clause  \n",
       "0          8        €226.5M  \n",
       "1         11        €127.1M  \n",
       "2         11        €228.1M  \n",
       "3         94        €138.6M  \n",
       "4         13        €196.4M  \n",
       "\n",
       "[5 rows x 84 columns]"
      ]
     },
     "execution_count": 3,
     "metadata": {},
     "output_type": "execute_result"
    }
   ],
   "source": [
    "df = pd.read_csv('FIFA19_data.csv', index_col=False)\n",
    "df.head()"
   ]
  },
  {
   "cell_type": "code",
   "execution_count": 4,
   "metadata": {},
   "outputs": [
    {
     "data": {
      "text/plain": [
       "Index(['ID', 'Name', 'Age', 'Nationality', 'Overall', 'Potential', 'Club',\n",
       "       'Value', 'Wage', 'Special', 'Preferred Foot',\n",
       "       'International Reputation', 'Weak Foot', 'Skill Moves', 'Work Rate',\n",
       "       'Body Type', 'Position', 'Jersey Number', 'Joined', 'Loaned From',\n",
       "       'Contract Valid Until', 'Height', 'Weight', 'LS', 'ST', 'RS', 'LW',\n",
       "       'LF', 'CF', 'RF', 'RW', 'LAM', 'CAM', 'RAM', 'LM', 'LCM', 'CM', 'RCM',\n",
       "       'RM', 'LWB', 'LDM', 'CDM', 'RDM', 'RWB', 'LB', 'LCB', 'CB', 'RCB', 'RB',\n",
       "       'Crossing', 'Finishing', 'HeadingAccuracy', 'ShortPassing', 'Volleys',\n",
       "       'Dribbling', 'Curve', 'FKAccuracy', 'LongPassing', 'BallControl',\n",
       "       'Acceleration', 'SprintSpeed', 'Agility', 'Reactions', 'Balance',\n",
       "       'ShotPower', 'Jumping', 'Stamina', 'Strength', 'LongShots',\n",
       "       'Aggression', 'Interceptions', 'Positioning', 'Vision', 'Penalties',\n",
       "       'Composure', 'Marking', 'StandingTackle', 'SlidingTackle', 'GKDiving',\n",
       "       'GKHandling', 'GKKicking', 'GKPositioning', 'GKReflexes',\n",
       "       'Release Clause'],\n",
       "      dtype='object')"
      ]
     },
     "execution_count": 4,
     "metadata": {},
     "output_type": "execute_result"
    }
   ],
   "source": [
    "df.columns"
   ]
  },
  {
   "cell_type": "code",
   "execution_count": 5,
   "metadata": {},
   "outputs": [
    {
     "data": {
      "text/plain": [
       "Position\n",
       "CAM     573\n",
       "CB      813\n",
       "CDM     531\n",
       "CF       37\n",
       "CM      543\n",
       "GK      921\n",
       "LAM      21\n",
       "LB      690\n",
       "LCB     487\n",
       "LCM     293\n",
       "LDM     184\n",
       "LF       13\n",
       "LM      641\n",
       "LS      154\n",
       "LW      211\n",
       "LWB      40\n",
       "RAM      20\n",
       "RB      701\n",
       "RCB     495\n",
       "RCM     276\n",
       "RDM     197\n",
       "RF       15\n",
       "RM      631\n",
       "RS      146\n",
       "RW      217\n",
       "RWB      37\n",
       "ST     1107\n",
       "dtype: int64"
      ]
     },
     "execution_count": 5,
     "metadata": {},
     "output_type": "execute_result"
    }
   ],
   "source": [
    "gb = df.groupby('Position')\n",
    "gb.size()"
   ]
  },
  {
   "cell_type": "code",
   "execution_count": 8,
   "metadata": {
    "scrolled": true
   },
   "outputs": [],
   "source": [
    "df = df.fillna(0)"
   ]
  },
  {
   "cell_type": "code",
   "execution_count": 10,
   "metadata": {},
   "outputs": [],
   "source": [
    "groups = gb.describe()\n",
    "groups = list(groups.index)"
   ]
  },
  {
   "cell_type": "code",
   "execution_count": 12,
   "metadata": {},
   "outputs": [
    {
     "data": {
      "text/plain": [
       "'CAM'"
      ]
     },
     "execution_count": 12,
     "metadata": {},
     "output_type": "execute_result"
    }
   ],
   "source": [
    "groups[0]"
   ]
  },
  {
   "cell_type": "code",
   "execution_count": 15,
   "metadata": {
    "scrolled": true
   },
   "outputs": [],
   "source": [
    "cam = gb.get_group(groups[0]).Name\n",
    "cb = gb.get_group(groups[1]).Name\n",
    "cdm = gb.get_group(groups[2]).Name\n",
    "cf = gb.get_group(groups[3]).Name\n",
    "cm = gb.get_group(groups[4]).Name\n",
    "gk = gb.get_group(groups[5]).Name\n",
    "lam = gb.get_group(groups[6]).Name\n",
    "lb = gb.get_group(groups[7]).Name\n",
    "lcb = gb.get_group(groups[8]).Name\n",
    "lcm = gb.get_group(groups[9]).Name\n",
    "ldm = gb.get_group(groups[10]).Name\n",
    "lf = gb.get_group(groups[11]).Name\n",
    "lm = gb.get_group(groups[12]).Name\n",
    "ls = gb.get_group(groups[13]).Name\n",
    "lw = gb.get_group(groups[14]).Name\n",
    "lwb = gb.get_group(groups[15]).Name\n",
    "ram = gb.get_group(groups[16]).Name\n",
    "rb = gb.get_group(groups[17]).Name\n",
    "rcb = gb.get_group(groups[18]).Name\n",
    "rcm = gb.get_group(groups[19]).Name\n",
    "rdm = gb.get_group(groups[20]).Name\n",
    "rf = gb.get_group(groups[21]).Name\n",
    "rm = gb.get_group(groups[22]).Name\n",
    "rs = gb.get_group(groups[23]).Name\n",
    "rw = gb.get_group(groups[24]).Name\n",
    "rwb = gb.get_group(groups[25]).Name\n",
    "st = gb.get_group(groups[26]).Name"
   ]
  },
  {
   "cell_type": "code",
   "execution_count": 17,
   "metadata": {
    "scrolled": true
   },
   "outputs": [
    {
     "data": {
      "text/plain": [
       "450             M. Ginter\n",
       "465          P. Kadeřábek\n",
       "517            S. Coleman\n",
       "652          D. Caligiuri\n",
       "766          Pablo Maffeo\n",
       "976               K. Lala\n",
       "1025           R. Aguilar\n",
       "1508             Barragán\n",
       "1663              E. Durm\n",
       "1670             M. Risse\n",
       "1974           M. Doherty\n",
       "2161              A. Beck\n",
       "2398              A. Nyom\n",
       "2506       F. Hadergjonaj\n",
       "2600            J. Schmid\n",
       "2869              Y. Atal\n",
       "3434            S. Medina\n",
       "3659             A. Bamba\n",
       "4288          D. Martínez\n",
       "5361          Johannesson\n",
       "5705                 Cifu\n",
       "5782           C. Rizzuto\n",
       "6076          Pedro Porro\n",
       "6096          D. Sundgren\n",
       "6283         L. Wahlqvist\n",
       "6672         J. Andersson\n",
       "7029           K. Freeman\n",
       "7801             D. Iorfa\n",
       "8209         R. Lundström\n",
       "8243       E. Salomonsson\n",
       "8311           G. Baldock\n",
       "9204           N. Madonna\n",
       "9254           E. Larsson\n",
       "9848        A. Munksgaard\n",
       "9851          K. Bartolec\n",
       "9888    M. Døhr Thychosen\n",
       "9923         E. Bonifacio\n",
       "Name: Name, dtype: object"
      ]
     },
     "execution_count": 17,
     "metadata": {},
     "output_type": "execute_result"
    }
   ],
   "source": [
    "rwb"
   ]
  },
  {
   "cell_type": "code",
   "execution_count": null,
   "metadata": {},
   "outputs": [],
   "source": []
  }
 ],
 "metadata": {
  "kernelspec": {
   "display_name": "Python 3",
   "language": "python",
   "name": "python3"
  },
  "language_info": {
   "codemirror_mode": {
    "name": "ipython",
    "version": 3
   },
   "file_extension": ".py",
   "mimetype": "text/x-python",
   "name": "python",
   "nbconvert_exporter": "python",
   "pygments_lexer": "ipython3",
   "version": "3.7.3"
  }
 },
 "nbformat": 4,
 "nbformat_minor": 2
}
